{
 "cells": [
  {
   "cell_type": "code",
   "execution_count": 1,
   "metadata": {},
   "outputs": [],
   "source": [
    "from transformers import AutoTokenizer, AutoModelForSeq2SeqLM"
   ]
  },
  {
   "cell_type": "code",
   "execution_count": 6,
   "metadata": {},
   "outputs": [
    {
     "data": {
      "application/vnd.jupyter.widget-view+json": {
       "model_id": "d6b9839cb77f4a7fa48a8c9a83f0fed9",
       "version_major": 2,
       "version_minor": 0
      },
      "text/plain": [
       "Downloading:   0%|          | 0.00/850M [00:00<?, ?B/s]"
      ]
     },
     "metadata": {},
     "output_type": "display_data"
    }
   ],
   "source": [
    "tokenizer = AutoTokenizer.from_pretrained(\"microsoft/GODEL-v1_1-base-seq2seq\")\n",
    "model = AutoModelForSeq2SeqLM.from_pretrained(\"microsoft/GODEL-v1_1-base-seq2seq\")"
   ]
  },
  {
   "cell_type": "code",
   "execution_count": 171,
   "metadata": {},
   "outputs": [],
   "source": [
    "def generate(instruction, knowledge, dialog):\n",
    "    knowledge = ' <|knowledge|> ' + knowledge[0] + \" <|knowledge|> \" + knowledge[1]\n",
    "    dialog = ' '.join(dialog)\n",
    "    query = f\"<|instruction|> {instruction} <|context|> {dialog} {knowledge} => \"\n",
    "    input_ids = tokenizer(f\"{query}\", return_tensors=\"pt\").input_ids\n",
    "    print(f\"Length of input_ids: {len(input_ids[0])}\")\n",
    "    outputs = model.generate(input_ids, max_new_tokens=64, min_length=2, num_beams=5, do_sample=False)\n",
    "    output = tokenizer.decode(outputs[0], skip_special_tokens=True)\n",
    "    return output"
   ]
  },
  {
   "cell_type": "code",
   "execution_count": 172,
   "metadata": {},
   "outputs": [],
   "source": [
    "# Instruction for a chitchat task\n",
    "instruction = f'Given possible responses and a dialogue context, complete the context as the system.'\n",
    "# Provide knowldge\n",
    "knowledge = [\n",
    "    \"User: Ok. Can I get the phone number? And could you recommend me a hotel? System: Sure, here you go: 01234567890. Regarding the hotel, I would recommend the Gran Prestige in the center of town. User: Seems good. Can you make a reservation? System: Sure, when would you like that reservation?\",\n",
    "    \"User: Can you give me the phone number and recommend me a restaurant? System: As for the restaurant, I recommend you the Quality Food in the city center. User: Can you book it? System: Yes, when do you want that reservation?\"\n",
    "]\n",
    "\n",
    "dialog = [\n",
    "  \"User: Sounds good, could I get that phone number? Also, could you recommend me an expensive hotel?\",\n",
    "  \"System: Bedouin's phone is 01223367660. As far as hotels go, I recommend the University Arms Hotel in the center of town.\",\n",
    "  \"User: Yes. Can you book it for me?\",\n",
    "]"
   ]
  },
  {
   "cell_type": "code",
   "execution_count": 173,
   "metadata": {},
   "outputs": [
    {
     "name": "stdout",
     "output_type": "stream",
     "text": [
      "huggingface/tokenizers: The current process just got forked, after parallelism has already been used. Disabling parallelism to avoid deadlocks...\n",
      "To disable this warning, you can either:\n",
      "\t- Avoid using `tokenizers` before the fork if possible\n",
      "\t- Explicitly set the environment variable TOKENIZERS_PARALLELISM=(true | false)\n",
      "Length of input_ids: 245\n",
      "System recommends the University Arms Hotel in the center of town, the Gran Prestige in the center of town, and the Quality Food in the city center.\n"
     ]
    }
   ],
   "source": [
    "!CUDA_VISIBLE_DEVICES=3\n",
    "response = generate(instruction, knowledge, dialog)\n",
    "print(response)"
   ]
  }
 ],
 "metadata": {
  "kernelspec": {
   "display_name": "Python 3.9.12 ('env': venv)",
   "language": "python",
   "name": "python3"
  },
  "language_info": {
   "codemirror_mode": {
    "name": "ipython",
    "version": 3
   },
   "file_extension": ".py",
   "mimetype": "text/x-python",
   "name": "python",
   "nbconvert_exporter": "python",
   "pygments_lexer": "ipython3",
   "version": "3.9.12"
  },
  "orig_nbformat": 4,
  "vscode": {
   "interpreter": {
    "hash": "f5a9c560eb19dc68eb505760092eddd8f34f41d1e1a5cf8fae9353029ad542b3"
   }
  }
 },
 "nbformat": 4,
 "nbformat_minor": 2
}
